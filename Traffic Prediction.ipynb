{
 "cells": [
  {
   "cell_type": "markdown",
   "metadata": {
    "id": "LsSkRNhOjjNA"
   },
   "source": [
    "##Importing all the libraries"
   ]
  },
  {
   "cell_type": "code",
   "execution_count": 6,
   "metadata": {
    "id": "iAiBXje8jNcY",
    "scrolled": true
   },
   "outputs": [],
   "source": [
    "from sklearn.preprocessing import OneHotEncoder\n",
    "from flask import Flask, render_template, request\n",
    "from sklearn.preprocessing import StandardScaler, MinMaxScaler\n",
    "from sklearn.neural_network import MLPRegressor\n",
    "import seaborn as sns\n",
    "import warnings\n",
    "import matplotlib.pyplot as plt\n",
    "import numpy as np\n",
    "import pandas as pd\n",
    "from datetime import datetime, timedelta"
   ]
  },
  {
   "cell_type": "markdown",
   "metadata": {
    "id": "iCNXod0ZkJ4l"
   },
   "source": [
    "\n",
    "\n",
    "#importing the dataset\n",
    "\n",
    "\n"
   ]
  },
  {
   "cell_type": "code",
   "execution_count": 9,
   "metadata": {
    "id": "H7XjquU6j-KQ"
   },
   "outputs": [],
   "source": [
    "data = pd.read_csv('Train.csv')"
   ]
  },
  {
   "cell_type": "code",
   "execution_count": 13,
   "metadata": {},
   "outputs": [
    {
     "data": {
      "text/plain": [
       "33750"
      ]
     },
     "execution_count": 13,
     "metadata": {},
     "output_type": "execute_result"
    }
   ],
   "source": [
    "len(data)"
   ]
  },
  {
   "cell_type": "code",
   "execution_count": 15,
   "metadata": {
    "scrolled": true
   },
   "outputs": [
    {
     "data": {
      "text/html": [
       "<div>\n",
       "<style scoped>\n",
       "    .dataframe tbody tr th:only-of-type {\n",
       "        vertical-align: middle;\n",
       "    }\n",
       "\n",
       "    .dataframe tbody tr th {\n",
       "        vertical-align: top;\n",
       "    }\n",
       "\n",
       "    .dataframe thead th {\n",
       "        text-align: right;\n",
       "    }\n",
       "</style>\n",
       "<table border=\"1\" class=\"dataframe\">\n",
       "  <thead>\n",
       "    <tr style=\"text-align: right;\">\n",
       "      <th></th>\n",
       "      <th>date_time</th>\n",
       "      <th>is_holiday</th>\n",
       "      <th>air_pollution_index</th>\n",
       "      <th>humidity</th>\n",
       "      <th>wind_speed</th>\n",
       "      <th>wind_direction</th>\n",
       "      <th>visibility_in_miles</th>\n",
       "      <th>dew_point</th>\n",
       "      <th>temperature</th>\n",
       "      <th>rain_p_h</th>\n",
       "      <th>snow_p_h</th>\n",
       "      <th>clouds_all</th>\n",
       "      <th>weather_type</th>\n",
       "      <th>weather_description</th>\n",
       "      <th>traffic_volume</th>\n",
       "    </tr>\n",
       "  </thead>\n",
       "  <tbody>\n",
       "    <tr>\n",
       "      <th>0</th>\n",
       "      <td>2012-10-02 09:00:00</td>\n",
       "      <td>NaN</td>\n",
       "      <td>121</td>\n",
       "      <td>89</td>\n",
       "      <td>2</td>\n",
       "      <td>329</td>\n",
       "      <td>1</td>\n",
       "      <td>1</td>\n",
       "      <td>288.28</td>\n",
       "      <td>0.0</td>\n",
       "      <td>0.0</td>\n",
       "      <td>40</td>\n",
       "      <td>Clouds</td>\n",
       "      <td>scattered clouds</td>\n",
       "      <td>5545</td>\n",
       "    </tr>\n",
       "    <tr>\n",
       "      <th>1</th>\n",
       "      <td>2012-10-02 10:00:00</td>\n",
       "      <td>NaN</td>\n",
       "      <td>178</td>\n",
       "      <td>67</td>\n",
       "      <td>3</td>\n",
       "      <td>330</td>\n",
       "      <td>1</td>\n",
       "      <td>1</td>\n",
       "      <td>289.36</td>\n",
       "      <td>0.0</td>\n",
       "      <td>0.0</td>\n",
       "      <td>75</td>\n",
       "      <td>Clouds</td>\n",
       "      <td>broken clouds</td>\n",
       "      <td>4516</td>\n",
       "    </tr>\n",
       "    <tr>\n",
       "      <th>2</th>\n",
       "      <td>2012-10-02 11:00:00</td>\n",
       "      <td>NaN</td>\n",
       "      <td>113</td>\n",
       "      <td>66</td>\n",
       "      <td>3</td>\n",
       "      <td>329</td>\n",
       "      <td>2</td>\n",
       "      <td>2</td>\n",
       "      <td>289.58</td>\n",
       "      <td>0.0</td>\n",
       "      <td>0.0</td>\n",
       "      <td>90</td>\n",
       "      <td>Clouds</td>\n",
       "      <td>overcast clouds</td>\n",
       "      <td>4767</td>\n",
       "    </tr>\n",
       "    <tr>\n",
       "      <th>3</th>\n",
       "      <td>2012-10-02 12:00:00</td>\n",
       "      <td>NaN</td>\n",
       "      <td>20</td>\n",
       "      <td>66</td>\n",
       "      <td>3</td>\n",
       "      <td>329</td>\n",
       "      <td>5</td>\n",
       "      <td>5</td>\n",
       "      <td>290.13</td>\n",
       "      <td>0.0</td>\n",
       "      <td>0.0</td>\n",
       "      <td>90</td>\n",
       "      <td>Clouds</td>\n",
       "      <td>overcast clouds</td>\n",
       "      <td>5026</td>\n",
       "    </tr>\n",
       "    <tr>\n",
       "      <th>4</th>\n",
       "      <td>2012-10-02 13:00:00</td>\n",
       "      <td>NaN</td>\n",
       "      <td>281</td>\n",
       "      <td>65</td>\n",
       "      <td>3</td>\n",
       "      <td>329</td>\n",
       "      <td>7</td>\n",
       "      <td>7</td>\n",
       "      <td>291.14</td>\n",
       "      <td>0.0</td>\n",
       "      <td>0.0</td>\n",
       "      <td>75</td>\n",
       "      <td>Clouds</td>\n",
       "      <td>broken clouds</td>\n",
       "      <td>4918</td>\n",
       "    </tr>\n",
       "    <tr>\n",
       "      <th>...</th>\n",
       "      <td>...</td>\n",
       "      <td>...</td>\n",
       "      <td>...</td>\n",
       "      <td>...</td>\n",
       "      <td>...</td>\n",
       "      <td>...</td>\n",
       "      <td>...</td>\n",
       "      <td>...</td>\n",
       "      <td>...</td>\n",
       "      <td>...</td>\n",
       "      <td>...</td>\n",
       "      <td>...</td>\n",
       "      <td>...</td>\n",
       "      <td>...</td>\n",
       "      <td>...</td>\n",
       "    </tr>\n",
       "    <tr>\n",
       "      <th>33745</th>\n",
       "      <td>2017-05-17 21:00:00</td>\n",
       "      <td>NaN</td>\n",
       "      <td>74</td>\n",
       "      <td>85</td>\n",
       "      <td>1</td>\n",
       "      <td>328</td>\n",
       "      <td>7</td>\n",
       "      <td>7</td>\n",
       "      <td>287.88</td>\n",
       "      <td>0.0</td>\n",
       "      <td>0.0</td>\n",
       "      <td>90</td>\n",
       "      <td>Mist</td>\n",
       "      <td>mist</td>\n",
       "      <td>2348</td>\n",
       "    </tr>\n",
       "    <tr>\n",
       "      <th>33746</th>\n",
       "      <td>2017-05-17 22:00:00</td>\n",
       "      <td>NaN</td>\n",
       "      <td>81</td>\n",
       "      <td>70</td>\n",
       "      <td>1</td>\n",
       "      <td>24</td>\n",
       "      <td>2</td>\n",
       "      <td>2</td>\n",
       "      <td>286.95</td>\n",
       "      <td>0.0</td>\n",
       "      <td>0.0</td>\n",
       "      <td>90</td>\n",
       "      <td>Rain</td>\n",
       "      <td>heavy intensity rain</td>\n",
       "      <td>2194</td>\n",
       "    </tr>\n",
       "    <tr>\n",
       "      <th>33747</th>\n",
       "      <td>2017-05-17 22:00:00</td>\n",
       "      <td>NaN</td>\n",
       "      <td>138</td>\n",
       "      <td>70</td>\n",
       "      <td>1</td>\n",
       "      <td>24</td>\n",
       "      <td>1</td>\n",
       "      <td>1</td>\n",
       "      <td>286.95</td>\n",
       "      <td>0.0</td>\n",
       "      <td>0.0</td>\n",
       "      <td>90</td>\n",
       "      <td>Mist</td>\n",
       "      <td>mist</td>\n",
       "      <td>2194</td>\n",
       "    </tr>\n",
       "    <tr>\n",
       "      <th>33748</th>\n",
       "      <td>2017-05-17 23:00:00</td>\n",
       "      <td>NaN</td>\n",
       "      <td>229</td>\n",
       "      <td>66</td>\n",
       "      <td>1</td>\n",
       "      <td>42</td>\n",
       "      <td>6</td>\n",
       "      <td>6</td>\n",
       "      <td>285.75</td>\n",
       "      <td>0.0</td>\n",
       "      <td>0.0</td>\n",
       "      <td>90</td>\n",
       "      <td>Rain</td>\n",
       "      <td>heavy intensity rain</td>\n",
       "      <td>1328</td>\n",
       "    </tr>\n",
       "    <tr>\n",
       "      <th>33749</th>\n",
       "      <td>2017-05-17 23:00:00</td>\n",
       "      <td>NaN</td>\n",
       "      <td>140</td>\n",
       "      <td>63</td>\n",
       "      <td>1</td>\n",
       "      <td>27</td>\n",
       "      <td>8</td>\n",
       "      <td>8</td>\n",
       "      <td>285.75</td>\n",
       "      <td>0.0</td>\n",
       "      <td>0.0</td>\n",
       "      <td>90</td>\n",
       "      <td>Mist</td>\n",
       "      <td>mist</td>\n",
       "      <td>1328</td>\n",
       "    </tr>\n",
       "  </tbody>\n",
       "</table>\n",
       "<p>33750 rows × 15 columns</p>\n",
       "</div>"
      ],
      "text/plain": [
       "                 date_time is_holiday  air_pollution_index  humidity  \\\n",
       "0      2012-10-02 09:00:00        NaN                  121        89   \n",
       "1      2012-10-02 10:00:00        NaN                  178        67   \n",
       "2      2012-10-02 11:00:00        NaN                  113        66   \n",
       "3      2012-10-02 12:00:00        NaN                   20        66   \n",
       "4      2012-10-02 13:00:00        NaN                  281        65   \n",
       "...                    ...        ...                  ...       ...   \n",
       "33745  2017-05-17 21:00:00        NaN                   74        85   \n",
       "33746  2017-05-17 22:00:00        NaN                   81        70   \n",
       "33747  2017-05-17 22:00:00        NaN                  138        70   \n",
       "33748  2017-05-17 23:00:00        NaN                  229        66   \n",
       "33749  2017-05-17 23:00:00        NaN                  140        63   \n",
       "\n",
       "       wind_speed  wind_direction  visibility_in_miles  dew_point  \\\n",
       "0               2             329                    1          1   \n",
       "1               3             330                    1          1   \n",
       "2               3             329                    2          2   \n",
       "3               3             329                    5          5   \n",
       "4               3             329                    7          7   \n",
       "...           ...             ...                  ...        ...   \n",
       "33745           1             328                    7          7   \n",
       "33746           1              24                    2          2   \n",
       "33747           1              24                    1          1   \n",
       "33748           1              42                    6          6   \n",
       "33749           1              27                    8          8   \n",
       "\n",
       "       temperature  rain_p_h  snow_p_h  clouds_all weather_type  \\\n",
       "0           288.28       0.0       0.0          40       Clouds   \n",
       "1           289.36       0.0       0.0          75       Clouds   \n",
       "2           289.58       0.0       0.0          90       Clouds   \n",
       "3           290.13       0.0       0.0          90       Clouds   \n",
       "4           291.14       0.0       0.0          75       Clouds   \n",
       "...            ...       ...       ...         ...          ...   \n",
       "33745       287.88       0.0       0.0          90         Mist   \n",
       "33746       286.95       0.0       0.0          90         Rain   \n",
       "33747       286.95       0.0       0.0          90         Mist   \n",
       "33748       285.75       0.0       0.0          90         Rain   \n",
       "33749       285.75       0.0       0.0          90         Mist   \n",
       "\n",
       "        weather_description  traffic_volume  \n",
       "0          scattered clouds            5545  \n",
       "1             broken clouds            4516  \n",
       "2           overcast clouds            4767  \n",
       "3           overcast clouds            5026  \n",
       "4             broken clouds            4918  \n",
       "...                     ...             ...  \n",
       "33745                  mist            2348  \n",
       "33746  heavy intensity rain            2194  \n",
       "33747                  mist            2194  \n",
       "33748  heavy intensity rain            1328  \n",
       "33749                  mist            1328  \n",
       "\n",
       "[33750 rows x 15 columns]"
      ]
     },
     "execution_count": 15,
     "metadata": {},
     "output_type": "execute_result"
    }
   ],
   "source": [
    "data"
   ]
  },
  {
   "cell_type": "code",
   "execution_count": 17,
   "metadata": {},
   "outputs": [
    {
     "data": {
      "text/plain": [
       "date_time              2012-10-02 09:00:00\n",
       "is_holiday                             NaN\n",
       "air_pollution_index                    121\n",
       "humidity                                89\n",
       "wind_speed                               2\n",
       "wind_direction                         329\n",
       "visibility_in_miles                      1\n",
       "dew_point                                1\n",
       "temperature                         288.28\n",
       "rain_p_h                               0.0\n",
       "snow_p_h                               0.0\n",
       "clouds_all                              40\n",
       "weather_type                        Clouds\n",
       "weather_description       scattered clouds\n",
       "traffic_volume                        5545\n",
       "Name: 0, dtype: object"
      ]
     },
     "execution_count": 17,
     "metadata": {},
     "output_type": "execute_result"
    }
   ],
   "source": [
    "data.iloc[0]"
   ]
  },
  {
   "cell_type": "code",
   "execution_count": 19,
   "metadata": {
    "scrolled": true
   },
   "outputs": [
    {
     "data": {
      "text/plain": [
       "date_time              2012-10-08 00:00:00\n",
       "is_holiday                    Columbus Day\n",
       "air_pollution_index                    144\n",
       "humidity                                45\n",
       "wind_speed                               9\n",
       "wind_direction                         300\n",
       "visibility_in_miles                      5\n",
       "dew_point                                5\n",
       "temperature                         273.08\n",
       "rain_p_h                               0.0\n",
       "snow_p_h                               0.0\n",
       "clouds_all                              20\n",
       "weather_type                        Clouds\n",
       "weather_description             few clouds\n",
       "traffic_volume                         455\n",
       "Name: 126, dtype: object"
      ]
     },
     "execution_count": 19,
     "metadata": {},
     "output_type": "execute_result"
    }
   ],
   "source": [
    "data.iloc[126]"
   ]
  },
  {
   "cell_type": "markdown",
   "metadata": {
    "id": "9PNQWiw1k-BP"
   },
   "source": [
    "#taking the required features or columns\n",
    "Collecting the data\n"
   ]
  },
  {
   "cell_type": "code",
   "execution_count": 22,
   "metadata": {},
   "outputs": [
    {
     "data": {
      "text/plain": [
       "date_time                  0\n",
       "is_holiday             33707\n",
       "air_pollution_index        0\n",
       "humidity                   0\n",
       "wind_speed                 0\n",
       "wind_direction             0\n",
       "visibility_in_miles        0\n",
       "dew_point                  0\n",
       "temperature                0\n",
       "rain_p_h                   0\n",
       "snow_p_h                   0\n",
       "clouds_all                 0\n",
       "weather_type               0\n",
       "weather_description        0\n",
       "traffic_volume             0\n",
       "dtype: int64"
      ]
     },
     "execution_count": 22,
     "metadata": {},
     "output_type": "execute_result"
    }
   ],
   "source": [
    "data.isnull().sum()"
   ]
  },
  {
   "cell_type": "markdown",
   "metadata": {},
   "source": [
    "#### Holiday----> 1\n",
    "#### Not Holiday -----> 0"
   ]
  },
  {
   "cell_type": "code",
   "execution_count": 25,
   "metadata": {},
   "outputs": [],
   "source": [
    "data['is_holiday'] = np.where(data['is_holiday'].isnull(), 0, 1)\n",
    "data['is_holiday'] = data['is_holiday'].astype(int)\n",
    "\n",
    "data['date_time'] = pd.to_datetime(data['date_time'])\n",
    "data['hour'] = data['date_time'].map(lambda x: int(x.strftime(\"%H\")))\n",
    "data['month_day'] = data['date_time'].map(lambda x: int(x.strftime(\"%d\")))\n",
    "data['weekday'] = data['date_time'].map(lambda x: x.weekday()+1)\n",
    "data['month'] = data['date_time'].map(lambda x: int(x.strftime(\"%m\")))\n",
    "data['year'] = data['date_time'].map(lambda x: int(x.strftime(\"%Y\")))\n",
    "data.to_csv(\"traffic_volume_data.csv\", index=False)"
   ]
  },
  {
   "cell_type": "code",
   "execution_count": 27,
   "metadata": {},
   "outputs": [
    {
     "data": {
      "text/plain": [
       "date_time              2012-10-02 21:00:00\n",
       "is_holiday                               0\n",
       "air_pollution_index                    128\n",
       "humidity                                61\n",
       "wind_speed                               4\n",
       "wind_direction                         325\n",
       "visibility_in_miles                      4\n",
       "dew_point                                4\n",
       "temperature                         288.61\n",
       "rain_p_h                               0.0\n",
       "snow_p_h                               0.0\n",
       "clouds_all                               1\n",
       "weather_type                         Clear\n",
       "weather_description           sky is clear\n",
       "traffic_volume                        2361\n",
       "hour                                    21\n",
       "month_day                                2\n",
       "weekday                                  2\n",
       "month                                   10\n",
       "year                                  2012\n",
       "Name: 12, dtype: object"
      ]
     },
     "execution_count": 27,
     "metadata": {},
     "output_type": "execute_result"
    }
   ],
   "source": [
    "data1 = pd.read_csv('traffic_volume_data.csv')\n",
    "data1.iloc[12]"
   ]
  },
  {
   "cell_type": "code",
   "execution_count": 29,
   "metadata": {
    "id": "wt42TIeOkiqb"
   },
   "outputs": [],
   "source": [
    "data2 = data1.sample(10000).reset_index(drop=True)\n",
    "label_columns = ['weather_type', 'weather_description']\n",
    "numeric_columns = ['is_holiday', 'temperature',\n",
    "                       'weekday', 'hour', 'month_day', 'year', 'month']"
   ]
  },
  {
   "cell_type": "code",
   "execution_count": 31,
   "metadata": {
    "id": "FJbPBfWL38aa"
   },
   "outputs": [
    {
     "data": {
      "text/html": [
       "<div>\n",
       "<style scoped>\n",
       "    .dataframe tbody tr th:only-of-type {\n",
       "        vertical-align: middle;\n",
       "    }\n",
       "\n",
       "    .dataframe tbody tr th {\n",
       "        vertical-align: top;\n",
       "    }\n",
       "\n",
       "    .dataframe thead th {\n",
       "        text-align: right;\n",
       "    }\n",
       "</style>\n",
       "<table border=\"1\" class=\"dataframe\">\n",
       "  <thead>\n",
       "    <tr style=\"text-align: right;\">\n",
       "      <th></th>\n",
       "      <th>is_holiday</th>\n",
       "      <th>temperature</th>\n",
       "      <th>weekday</th>\n",
       "      <th>hour</th>\n",
       "      <th>month_day</th>\n",
       "      <th>year</th>\n",
       "      <th>month</th>\n",
       "      <th>weather_type</th>\n",
       "      <th>weather_description</th>\n",
       "    </tr>\n",
       "  </thead>\n",
       "  <tbody>\n",
       "    <tr>\n",
       "      <th>0</th>\n",
       "      <td>0</td>\n",
       "      <td>289.08</td>\n",
       "      <td>5</td>\n",
       "      <td>2</td>\n",
       "      <td>6</td>\n",
       "      <td>2014</td>\n",
       "      <td>6</td>\n",
       "      <td>Mist</td>\n",
       "      <td>mist</td>\n",
       "    </tr>\n",
       "    <tr>\n",
       "      <th>1</th>\n",
       "      <td>0</td>\n",
       "      <td>293.46</td>\n",
       "      <td>5</td>\n",
       "      <td>2</td>\n",
       "      <td>28</td>\n",
       "      <td>2013</td>\n",
       "      <td>6</td>\n",
       "      <td>Clouds</td>\n",
       "      <td>scattered clouds</td>\n",
       "    </tr>\n",
       "    <tr>\n",
       "      <th>2</th>\n",
       "      <td>0</td>\n",
       "      <td>300.65</td>\n",
       "      <td>1</td>\n",
       "      <td>13</td>\n",
       "      <td>17</td>\n",
       "      <td>2013</td>\n",
       "      <td>6</td>\n",
       "      <td>Clear</td>\n",
       "      <td>Sky is Clear</td>\n",
       "    </tr>\n",
       "    <tr>\n",
       "      <th>3</th>\n",
       "      <td>0</td>\n",
       "      <td>290.91</td>\n",
       "      <td>7</td>\n",
       "      <td>5</td>\n",
       "      <td>22</td>\n",
       "      <td>2014</td>\n",
       "      <td>6</td>\n",
       "      <td>Clear</td>\n",
       "      <td>sky is clear</td>\n",
       "    </tr>\n",
       "    <tr>\n",
       "      <th>4</th>\n",
       "      <td>0</td>\n",
       "      <td>288.81</td>\n",
       "      <td>5</td>\n",
       "      <td>14</td>\n",
       "      <td>11</td>\n",
       "      <td>2014</td>\n",
       "      <td>4</td>\n",
       "      <td>Clouds</td>\n",
       "      <td>few clouds</td>\n",
       "    </tr>\n",
       "  </tbody>\n",
       "</table>\n",
       "</div>"
      ],
      "text/plain": [
       "   is_holiday  temperature  weekday  hour  month_day  year  month  \\\n",
       "0           0       289.08        5     2          6  2014      6   \n",
       "1           0       293.46        5     2         28  2013      6   \n",
       "2           0       300.65        1    13         17  2013      6   \n",
       "3           0       290.91        7     5         22  2014      6   \n",
       "4           0       288.81        5    14         11  2014      4   \n",
       "\n",
       "  weather_type weather_description  \n",
       "0         Mist                mist  \n",
       "1       Clouds    scattered clouds  \n",
       "2        Clear        Sky is Clear  \n",
       "3        Clear        sky is clear  \n",
       "4       Clouds          few clouds  "
      ]
     },
     "execution_count": 31,
     "metadata": {},
     "output_type": "execute_result"
    }
   ],
   "source": [
    "features = numeric_columns+label_columns\n",
    "X = data2[features]\n",
    "X.head()"
   ]
  },
  {
   "cell_type": "code",
   "execution_count": 33,
   "metadata": {
    "colab": {
     "base_uri": "https://localhost:8080/"
    },
    "id": "fsUSWcueQo4n",
    "outputId": "e81bdac3-0c70-41dd-9fd4-4d9a62176ea1"
   },
   "outputs": [
    {
     "data": {
      "text/plain": [
       "(10000, 9)"
      ]
     },
     "execution_count": 33,
     "metadata": {},
     "output_type": "execute_result"
    }
   ],
   "source": [
    "X.shape\n"
   ]
  },
  {
   "cell_type": "code",
   "execution_count": 35,
   "metadata": {
    "colab": {
     "base_uri": "https://localhost:8080/"
    },
    "id": "WOWCL-_Tl3wz",
    "outputId": "375b2b20-b514-42e1-cb17-3d1904a74cd7"
   },
   "outputs": [
    {
     "name": "stdout",
     "output_type": "stream",
     "text": [
      "['Mist', 'Clouds', 'Clear', 'Rain', 'Snow', 'Fog', 'Drizzle', 'Haze', 'Thunderstorm', 'Smoke', 'Squall']\n",
      "['mist', 'scattered clouds', 'Sky is Clear', 'sky is clear', 'few clouds', 'light rain', 'overcast clouds', 'broken clouds', 'light snow', 'fog', 'light intensity drizzle', 'heavy intensity rain', 'proximity shower rain', 'haze', 'proximity thunderstorm', 'heavy snow', 'moderate rain', 'thunderstorm with heavy rain', 'drizzle', 'snow', 'thunderstorm with rain', 'heavy intensity drizzle', 'smoke', 'proximity thunderstorm with rain', 'thunderstorm', 'thunderstorm with light rain', 'very heavy rain', 'shower drizzle', 'light rain and snow', 'thunderstorm with drizzle', 'sleet', 'proximity thunderstorm with drizzle', 'freezing rain', 'SQUALLS', 'thunderstorm with light drizzle']\n"
     ]
    }
   ],
   "source": [
    "from functools import reduce\n",
    "def unique(list1):\n",
    "    ans = reduce(lambda re, x: re+[x] if x not in re else re, list1, [])\n",
    "    print(ans)\n",
    "\n",
    "n1 = data2['weather_type']\n",
    "n2 = data2['weather_description']\n",
    "unique(n1)\n",
    "unique(n2)\n",
    "n1features = ['Rain', 'Clouds', 'Clear', 'Snow', 'Mist',\n",
    "              'Drizzle', 'Haze', 'Thunderstorm', 'Fog', 'Smoke', 'Squall']\n",
    "n2features = ['light rain', 'few clouds', 'Sky is Clear', 'light snow', 'sky is clear', 'mist', 'broken clouds', 'moderate rain', 'drizzle', 'overcast clouds', 'scattered clouds', 'haze', 'proximity thunderstorm', 'light intensity drizzle', 'heavy snow', 'heavy intensity rain', 'fog', 'heavy intensity drizzle', 'shower snow', 'snow', 'thunderstorm with rain',\n",
    "              'thunderstorm with heavy rain', 'thunderstorm with light rain', 'proximity thunderstorm with rain', 'thunderstorm with drizzle', 'smoke', 'thunderstorm', 'proximity shower rain', 'very heavy rain', 'proximity thunderstorm with drizzle', 'light rain and snow', 'light intensity shower rain', 'SQUALLS', 'shower drizzle', 'thunderstorm with light drizzle']\n",
    "\n",
    "n11 = []\n",
    "n22 = []\n",
    "for i in range(10000):\n",
    "    if(n1[i]) not in n1features:\n",
    "        n11.append(0)\n",
    "    else:\n",
    "        n11.append((n1features.index(n1[i]))+1)\n",
    "    if n2[i] not in n2features:\n",
    "        n22.append(0)\n",
    "    else:\n",
    "        n22.append((n2features.index(n2[i]))+1)\n",
    "# print(n11)\n",
    "# print(n22)\n",
    "data2['weather_type'] = n11\n",
    "data2['weather_description'] = n22\n"
   ]
  },
  {
   "cell_type": "markdown",
   "metadata": {
    "id": "jOp4AVpSlPEd"
   },
   "source": [
    "#Data Preparation"
   ]
  },
  {
   "cell_type": "code",
   "execution_count": 38,
   "metadata": {
    "id": "VCa_UE4-kiaX"
   },
   "outputs": [],
   "source": [
    "features = numeric_columns+label_columns\n",
    "target = ['traffic_volume']\n",
    "X = data2[features]\n",
    "y = data2[target]"
   ]
  },
  {
   "cell_type": "code",
   "execution_count": 40,
   "metadata": {
    "colab": {
     "base_uri": "https://localhost:8080/",
     "height": 301
    },
    "id": "39wMw-Ll1inC",
    "outputId": "73fd29fd-78d4-4f4e-f388-39e8133b6fc5"
   },
   "outputs": [
    {
     "data": {
      "text/html": [
       "<div>\n",
       "<style scoped>\n",
       "    .dataframe tbody tr th:only-of-type {\n",
       "        vertical-align: middle;\n",
       "    }\n",
       "\n",
       "    .dataframe tbody tr th {\n",
       "        vertical-align: top;\n",
       "    }\n",
       "\n",
       "    .dataframe thead th {\n",
       "        text-align: right;\n",
       "    }\n",
       "</style>\n",
       "<table border=\"1\" class=\"dataframe\">\n",
       "  <thead>\n",
       "    <tr style=\"text-align: right;\">\n",
       "      <th></th>\n",
       "      <th>is_holiday</th>\n",
       "      <th>temperature</th>\n",
       "      <th>weekday</th>\n",
       "      <th>hour</th>\n",
       "      <th>month_day</th>\n",
       "      <th>year</th>\n",
       "      <th>month</th>\n",
       "      <th>weather_type</th>\n",
       "      <th>weather_description</th>\n",
       "    </tr>\n",
       "  </thead>\n",
       "  <tbody>\n",
       "    <tr>\n",
       "      <th>0</th>\n",
       "      <td>0</td>\n",
       "      <td>289.08</td>\n",
       "      <td>5</td>\n",
       "      <td>2</td>\n",
       "      <td>6</td>\n",
       "      <td>2014</td>\n",
       "      <td>6</td>\n",
       "      <td>5</td>\n",
       "      <td>6</td>\n",
       "    </tr>\n",
       "    <tr>\n",
       "      <th>1</th>\n",
       "      <td>0</td>\n",
       "      <td>293.46</td>\n",
       "      <td>5</td>\n",
       "      <td>2</td>\n",
       "      <td>28</td>\n",
       "      <td>2013</td>\n",
       "      <td>6</td>\n",
       "      <td>2</td>\n",
       "      <td>11</td>\n",
       "    </tr>\n",
       "    <tr>\n",
       "      <th>2</th>\n",
       "      <td>0</td>\n",
       "      <td>300.65</td>\n",
       "      <td>1</td>\n",
       "      <td>13</td>\n",
       "      <td>17</td>\n",
       "      <td>2013</td>\n",
       "      <td>6</td>\n",
       "      <td>3</td>\n",
       "      <td>3</td>\n",
       "    </tr>\n",
       "    <tr>\n",
       "      <th>3</th>\n",
       "      <td>0</td>\n",
       "      <td>290.91</td>\n",
       "      <td>7</td>\n",
       "      <td>5</td>\n",
       "      <td>22</td>\n",
       "      <td>2014</td>\n",
       "      <td>6</td>\n",
       "      <td>3</td>\n",
       "      <td>5</td>\n",
       "    </tr>\n",
       "    <tr>\n",
       "      <th>4</th>\n",
       "      <td>0</td>\n",
       "      <td>288.81</td>\n",
       "      <td>5</td>\n",
       "      <td>14</td>\n",
       "      <td>11</td>\n",
       "      <td>2014</td>\n",
       "      <td>4</td>\n",
       "      <td>2</td>\n",
       "      <td>2</td>\n",
       "    </tr>\n",
       "    <tr>\n",
       "      <th>5</th>\n",
       "      <td>0</td>\n",
       "      <td>290.90</td>\n",
       "      <td>4</td>\n",
       "      <td>19</td>\n",
       "      <td>9</td>\n",
       "      <td>2013</td>\n",
       "      <td>5</td>\n",
       "      <td>1</td>\n",
       "      <td>1</td>\n",
       "    </tr>\n",
       "  </tbody>\n",
       "</table>\n",
       "</div>"
      ],
      "text/plain": [
       "   is_holiday  temperature  weekday  hour  month_day  year  month  \\\n",
       "0           0       289.08        5     2          6  2014      6   \n",
       "1           0       293.46        5     2         28  2013      6   \n",
       "2           0       300.65        1    13         17  2013      6   \n",
       "3           0       290.91        7     5         22  2014      6   \n",
       "4           0       288.81        5    14         11  2014      4   \n",
       "5           0       290.90        4    19          9  2013      5   \n",
       "\n",
       "   weather_type  weather_description  \n",
       "0             5                    6  \n",
       "1             2                   11  \n",
       "2             3                    3  \n",
       "3             3                    5  \n",
       "4             2                    2  \n",
       "5             1                    1  "
      ]
     },
     "execution_count": 40,
     "metadata": {},
     "output_type": "execute_result"
    }
   ],
   "source": [
    "X.head(6)"
   ]
  },
  {
   "cell_type": "markdown",
   "metadata": {
    "id": "jlMn2VaklmDm"
   },
   "source": [
    "#Feature Scaling"
   ]
  },
  {
   "cell_type": "code",
   "execution_count": 43,
   "metadata": {
    "id": "uF1n7zfzlqoC"
   },
   "outputs": [],
   "source": [
    "x_scaler = MinMaxScaler()\n",
    "X = x_scaler.fit_transform(X)\n",
    "y_scaler = MinMaxScaler()\n",
    "y = y_scaler.fit_transform(y).flatten()\n",
    "warnings.filterwarnings('ignore')"
   ]
  },
  {
   "cell_type": "code",
   "execution_count": 45,
   "metadata": {
    "colab": {
     "base_uri": "https://localhost:8080/"
    },
    "id": "kYXMZO-elrd9",
    "outputId": "cc6df361-12e8-46b0-e631-68c6608de300"
   },
   "outputs": [
    {
     "name": "stdout",
     "output_type": "stream",
     "text": [
      "[[0.         0.94061758 0.66666667 0.08695652 0.16666667 0.4\n",
      "  0.45454545 0.4        0.17142857]\n",
      " [0.         0.95486936 0.66666667 0.08695652 0.9        0.2\n",
      "  0.45454545 0.1        0.31428571]\n",
      " [0.         0.97826441 0.         0.56521739 0.53333333 0.2\n",
      "  0.45454545 0.2        0.08571429]\n",
      " [0.         0.94657209 1.         0.2173913  0.7        0.4\n",
      "  0.45454545 0.2        0.14285714]\n",
      " [0.         0.93973904 0.66666667 0.60869565 0.33333333 0.4\n",
      "  0.27272727 0.1        0.05714286]]\n"
     ]
    }
   ],
   "source": [
    "print(X[:5])"
   ]
  },
  {
   "cell_type": "markdown",
   "metadata": {
    "id": "4It7y43LoIlS"
   },
   "source": [
    "#Visualization"
   ]
  },
  {
   "cell_type": "code",
   "execution_count": 48,
   "metadata": {
    "colab": {
     "base_uri": "https://localhost:8080/",
     "height": 1000
    },
    "id": "arNDfHuumYaH",
    "outputId": "68d24a32-42c9-4339-b817-f80dbd2e2df8"
   },
   "outputs": [
    {
     "data": {
      "image/png": "[encoded data removed]",
      "text/plain": [
       "<Figure size 800x1600 with 4 Axes>"
      ]
     },
     "metadata": {},
     "output_type": "display_data"
    }
   ],
   "source": [
    "metrics = ['month', 'month_day', 'weekday', 'hour']\n",
    "fig = plt.figure(figsize=(8, 4*len(metrics)))\n",
    "for i, metric in enumerate(metrics):\n",
    "\tax = fig.add_subplot(len(metrics), 1, i+1)\n",
    "\tax.plot(data.groupby(metric)['traffic_volume'].mean(), '-o')\n",
    "\tax.set_xlabel(metric)\n",
    "\tax.set_ylabel(\"Mean Traffic\")\n",
    "\tax.set_title(f\"Traffic Trend by {metric}\")\n",
    "plt.tight_layout()\n",
    "plt.show()"
   ]
  },
  {
   "cell_type": "markdown",
   "metadata": {
    "id": "qcpADogml9lD"
   },
   "source": [
    "#Train the Model"
   ]
  },
  {
   "cell_type": "code",
   "execution_count": 50,
   "metadata": {
    "colab": {
     "base_uri": "https://localhost:8080/"
    },
    "id": "w_JxqtgkmA-Q",
    "outputId": "439f6fc3-7d95-4dbd-a0e3-df172a07f472",
    "scrolled": true
   },
   "outputs": [
    {
     "name": "stdout",
     "output_type": "stream",
     "text": [
      "predicted output := [0.03444296 0.02816192 0.72252011 0.03958095 0.76991715 0.56480198\n",
      " 0.75639213 0.64684121 0.47261448 0.05289131]\n",
      "Actual output := [0.04361806 0.05158675 0.69760939 0.09184957 0.81658046 0.48734797\n",
      " 0.90815043 0.6133091  0.58842444 0.04990913]\n"
     ]
    }
   ],
   "source": [
    "regr = MLPRegressor(random_state=1, max_iter=500).fit(X, y)\n",
    "new = []\n",
    "print('predicted output :=',regr.predict(X[:10]))\n",
    "print('Actual output :=',y[:10])"
   ]
  },
  {
   "cell_type": "code",
   "execution_count": 52,
   "metadata": {
    "colab": {
     "base_uri": "https://localhost:8080/"
    },
    "id": "c5-VBpbNRIxI",
    "outputId": "e1b92146-97ab-4506-f240-72af61d1e20e"
   },
   "outputs": [
    {
     "name": "stdout",
     "output_type": "stream",
     "text": [
      "Mean Absolute Error: 0.07222641709395645\n"
     ]
    }
   ],
   "source": [
    "# error evaluation\n",
    "from sklearn.model_selection import train_test_split\n",
    "from sklearn.metrics import mean_absolute_error\n",
    "trainX, testX, trainY, testY = train_test_split(X, y, test_size=0.2)\n",
    "y_pred = regr.predict(testX)\n",
    "print('Mean Absolute Error:', mean_absolute_error(testY, y_pred))\n"
   ]
  },
  {
   "cell_type": "code",
   "execution_count": 53,
   "metadata": {
    "colab": {
     "base_uri": "https://localhost:8080/"
    },
    "id": "YguC21Lcoeup",
    "outputId": "1e1cb121-2e49-4f02-bd4a-ade13a7676b1"
   },
   "outputs": [
    {
     "name": "stdout",
     "output_type": "stream",
     "text": [
      "['is_holiday', 'temperature', 'weekday', 'hour', 'month_day', 'year', 'month', 'weather_type', 'weather_description']\n"
     ]
    }
   ],
   "source": [
    "print(features)"
   ]
  },
  {
   "cell_type": "code",
   "execution_count": 54,
   "metadata": {
    "colab": {
     "base_uri": "https://localhost:8080/",
     "height": 206
    },
    "id": "8_rgNNZ5oigr",
    "outputId": "b4ee7cfb-ccd3-4c8c-d91b-0e622d006884"
   },
   "outputs": [
    {
     "data": {
      "text/html": [
       "<div>\n",
       "<style scoped>\n",
       "    .dataframe tbody tr th:only-of-type {\n",
       "        vertical-align: middle;\n",
       "    }\n",
       "\n",
       "    .dataframe tbody tr th {\n",
       "        vertical-align: top;\n",
       "    }\n",
       "\n",
       "    .dataframe thead th {\n",
       "        text-align: right;\n",
       "    }\n",
       "</style>\n",
       "<table border=\"1\" class=\"dataframe\">\n",
       "  <thead>\n",
       "    <tr style=\"text-align: right;\">\n",
       "      <th></th>\n",
       "      <th>is_holiday</th>\n",
       "      <th>temperature</th>\n",
       "      <th>weekday</th>\n",
       "      <th>hour</th>\n",
       "      <th>month_day</th>\n",
       "      <th>year</th>\n",
       "      <th>month</th>\n",
       "      <th>weather_type</th>\n",
       "      <th>weather_description</th>\n",
       "    </tr>\n",
       "  </thead>\n",
       "  <tbody>\n",
       "    <tr>\n",
       "      <th>0</th>\n",
       "      <td>0</td>\n",
       "      <td>289.08</td>\n",
       "      <td>5</td>\n",
       "      <td>2</td>\n",
       "      <td>6</td>\n",
       "      <td>2014</td>\n",
       "      <td>6</td>\n",
       "      <td>5</td>\n",
       "      <td>6</td>\n",
       "    </tr>\n",
       "    <tr>\n",
       "      <th>1</th>\n",
       "      <td>0</td>\n",
       "      <td>293.46</td>\n",
       "      <td>5</td>\n",
       "      <td>2</td>\n",
       "      <td>28</td>\n",
       "      <td>2013</td>\n",
       "      <td>6</td>\n",
       "      <td>2</td>\n",
       "      <td>11</td>\n",
       "    </tr>\n",
       "    <tr>\n",
       "      <th>2</th>\n",
       "      <td>0</td>\n",
       "      <td>300.65</td>\n",
       "      <td>1</td>\n",
       "      <td>13</td>\n",
       "      <td>17</td>\n",
       "      <td>2013</td>\n",
       "      <td>6</td>\n",
       "      <td>3</td>\n",
       "      <td>3</td>\n",
       "    </tr>\n",
       "    <tr>\n",
       "      <th>3</th>\n",
       "      <td>0</td>\n",
       "      <td>290.91</td>\n",
       "      <td>7</td>\n",
       "      <td>5</td>\n",
       "      <td>22</td>\n",
       "      <td>2014</td>\n",
       "      <td>6</td>\n",
       "      <td>3</td>\n",
       "      <td>5</td>\n",
       "    </tr>\n",
       "    <tr>\n",
       "      <th>4</th>\n",
       "      <td>0</td>\n",
       "      <td>288.81</td>\n",
       "      <td>5</td>\n",
       "      <td>14</td>\n",
       "      <td>11</td>\n",
       "      <td>2014</td>\n",
       "      <td>4</td>\n",
       "      <td>2</td>\n",
       "      <td>2</td>\n",
       "    </tr>\n",
       "    <tr>\n",
       "      <th>...</th>\n",
       "      <td>...</td>\n",
       "      <td>...</td>\n",
       "      <td>...</td>\n",
       "      <td>...</td>\n",
       "      <td>...</td>\n",
       "      <td>...</td>\n",
       "      <td>...</td>\n",
       "      <td>...</td>\n",
       "      <td>...</td>\n",
       "    </tr>\n",
       "    <tr>\n",
       "      <th>9995</th>\n",
       "      <td>0</td>\n",
       "      <td>275.72</td>\n",
       "      <td>3</td>\n",
       "      <td>21</td>\n",
       "      <td>22</td>\n",
       "      <td>2017</td>\n",
       "      <td>3</td>\n",
       "      <td>2</td>\n",
       "      <td>10</td>\n",
       "    </tr>\n",
       "    <tr>\n",
       "      <th>9996</th>\n",
       "      <td>0</td>\n",
       "      <td>277.34</td>\n",
       "      <td>7</td>\n",
       "      <td>6</td>\n",
       "      <td>31</td>\n",
       "      <td>2013</td>\n",
       "      <td>3</td>\n",
       "      <td>1</td>\n",
       "      <td>8</td>\n",
       "    </tr>\n",
       "    <tr>\n",
       "      <th>9997</th>\n",
       "      <td>0</td>\n",
       "      <td>297.56</td>\n",
       "      <td>6</td>\n",
       "      <td>21</td>\n",
       "      <td>25</td>\n",
       "      <td>2015</td>\n",
       "      <td>7</td>\n",
       "      <td>7</td>\n",
       "      <td>12</td>\n",
       "    </tr>\n",
       "    <tr>\n",
       "      <th>9998</th>\n",
       "      <td>0</td>\n",
       "      <td>271.46</td>\n",
       "      <td>3</td>\n",
       "      <td>0</td>\n",
       "      <td>18</td>\n",
       "      <td>2017</td>\n",
       "      <td>1</td>\n",
       "      <td>7</td>\n",
       "      <td>12</td>\n",
       "    </tr>\n",
       "    <tr>\n",
       "      <th>9999</th>\n",
       "      <td>0</td>\n",
       "      <td>280.23</td>\n",
       "      <td>7</td>\n",
       "      <td>7</td>\n",
       "      <td>8</td>\n",
       "      <td>2016</td>\n",
       "      <td>5</td>\n",
       "      <td>2</td>\n",
       "      <td>11</td>\n",
       "    </tr>\n",
       "  </tbody>\n",
       "</table>\n",
       "<p>10000 rows × 9 columns</p>\n",
       "</div>"
      ],
      "text/plain": [
       "      is_holiday  temperature  weekday  hour  month_day  year  month  \\\n",
       "0              0       289.08        5     2          6  2014      6   \n",
       "1              0       293.46        5     2         28  2013      6   \n",
       "2              0       300.65        1    13         17  2013      6   \n",
       "3              0       290.91        7     5         22  2014      6   \n",
       "4              0       288.81        5    14         11  2014      4   \n",
       "...          ...          ...      ...   ...        ...   ...    ...   \n",
       "9995           0       275.72        3    21         22  2017      3   \n",
       "9996           0       277.34        7     6         31  2013      3   \n",
       "9997           0       297.56        6    21         25  2015      7   \n",
       "9998           0       271.46        3     0         18  2017      1   \n",
       "9999           0       280.23        7     7          8  2016      5   \n",
       "\n",
       "      weather_type  weather_description  \n",
       "0                5                    6  \n",
       "1                2                   11  \n",
       "2                3                    3  \n",
       "3                3                    5  \n",
       "4                2                    2  \n",
       "...            ...                  ...  \n",
       "9995             2                   10  \n",
       "9996             1                    8  \n",
       "9997             7                   12  \n",
       "9998             7                   12  \n",
       "9999             2                   11  \n",
       "\n",
       "[10000 rows x 9 columns]"
      ]
     },
     "execution_count": 54,
     "metadata": {},
     "output_type": "execute_result"
    }
   ],
   "source": [
    "data2[features]"
   ]
  },
  {
   "cell_type": "markdown",
   "metadata": {
    "id": "vLx7CxtioYn3"
   },
   "source": [
    "#User input"
   ]
  },
  {
   "cell_type": "code",
   "execution_count": 56,
   "metadata": {
    "colab": {
     "base_uri": "https://localhost:8080/"
    },
    "id": "uvI4vBoloYSz",
    "outputId": "938281d8-5ab0-4519-94eb-174fd61dc953"
   },
   "outputs": [
    {
     "name": "stdout",
     "output_type": "stream",
     "text": [
      "Before inverse Scaling : [0.73448691]\n"
     ]
    }
   ],
   "source": [
    "ip = [0,268.410,5,12,27,2017,1,2,11]\n",
    "ip = x_scaler.transform([ip])\n",
    "out = regr.predict(ip)\n",
    "print('Before inverse Scaling :',out)"
   ]
  },
  {
   "cell_type": "code",
   "execution_count": 62,
   "metadata": {
    "colab": {
     "base_uri": "https://localhost:8080/"
    },
    "id": "7dNibTZroYIt",
    "outputId": "c6817f46-4b5c-40e2-963b-73129400f0d5"
   },
   "outputs": [
    {
     "name": "stdout",
     "output_type": "stream",
     "text": [
      "Traffic Volume :  [[5254.78488748]]\n"
     ]
    }
   ],
   "source": [
    "y_pred = y_scaler.inverse_transform([out])\n",
    "print('Traffic Volume : ',y_pred)"
   ]
  },
  {
   "cell_type": "code",
   "execution_count": 64,
   "metadata": {
    "colab": {
     "base_uri": "https://localhost:8080/"
    },
    "id": "LO-UAQfkpXhL",
    "outputId": "a97e83f9-de01-49bf-f69c-0481ac8f4a1b"
   },
   "outputs": [
    {
     "name": "stdout",
     "output_type": "stream",
     "text": [
      "heavy Traffic\n"
     ]
    }
   ],
   "source": [
    "if(y_pred<=1000):\n",
    "  print(\"No Traffic \")\n",
    "elif y_pred>1000 and y_pred<=3000:\n",
    "  print(\"Busy or Normal Traffic\")\n",
    "elif y_pred>3000 and y_pred<=5500:\n",
    "  print(\"heavy Traffic\")\n",
    "else:\n",
    "  print(\"Worst case\")"
   ]
  },
  {
   "cell_type": "markdown",
   "metadata": {
    "id": "UfaHUYVfrpm2"
   },
   "source": [
    "#Evaluating Metrics "
   ]
  },
  {
   "cell_type": "code",
   "execution_count": 67,
   "metadata": {},
   "outputs": [],
   "source": [
    "import pickle\n",
    "filename = 'trained_model1.sav'\n",
    "pickle.dump(x_scaler, open(filename, 'wb'))\n",
    "loaded_model1 = pickle.load(open('trained_model1.sav', 'rb'))"
   ]
  },
  {
   "cell_type": "code",
   "execution_count": 69,
   "metadata": {},
   "outputs": [],
   "source": [
    "filename = 'trained_model2.sav'\n",
    "pickle.dump(y_scaler, open(filename, 'wb'))\n",
    "loaded_model2 = pickle.load(open('trained_model2.sav', 'rb'))"
   ]
  },
  {
   "cell_type": "code",
   "execution_count": 71,
   "metadata": {},
   "outputs": [],
   "source": [
    "filename = 'trained_model3.sav'\n",
    "pickle.dump(regr, open(filename, 'wb'))\n",
    "loaded_model3 = pickle.load(open('trained_model3.sav', 'rb'))"
   ]
  },
  {
   "cell_type": "code",
   "execution_count": 73,
   "metadata": {},
   "outputs": [
    {
     "name": "stdout",
     "output_type": "stream",
     "text": [
      "Before inverse Scaling : [0.73448691]\n",
      "Traffic Volume :  [[5254.78488748]]\n",
      "heavy Traffic\n"
     ]
    }
   ],
   "source": [
    "ip = [0,268.410,5,12,27,2017,1,2,11]\n",
    "\n",
    "ip = loaded_model1.transform([ip])\n",
    "\n",
    "out = loaded_model3.predict(ip)\n",
    "print('Before inverse Scaling :',out)\n",
    "\n",
    "y_pred = loaded_model2.inverse_transform([out])\n",
    "print('Traffic Volume : ',y_pred)\n",
    "\n",
    "if(y_pred<=1000):\n",
    "  print(\"No Traffic \")\n",
    "elif y_pred>1000 and y_pred<=3000:\n",
    "  print(\"Busy or Normal Traffic\")\n",
    "elif y_pred>3000 and y_pred<=5500:\n",
    "  print(\"heavy Traffic\")\n",
    "else:\n",
    "  print(\"Worst case\")"
   ]
  }
 ],
 "metadata": {
  "accelerator": "GPU",
  "colab": {
   "provenance": []
  },
  "gpuClass": "standard",
  "kernelspec": {
   "display_name": "Python [conda env:base] *",
   "language": "python",
   "name": "conda-base-py"
  },
  "language_info": {
   "codemirror_mode": {
    "name": "ipython",
    "version": 3
   },
   "file_extension": ".py",
   "mimetype": "text/x-python",
   "name": "python",
   "nbconvert_exporter": "python",
   "pygments_lexer": "ipython3",
   "version": "3.12.7"
  }
 },
 "nbformat": 4,
 "nbformat_minor": 4
}
